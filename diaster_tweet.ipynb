{
 "cells": [
  {
   "cell_type": "code",
   "execution_count": 1,
   "metadata": {},
   "outputs": [],
   "source": [
    "import pandas as pd\n",
    "import numpy as np # linear algebra\n",
    "import pandas as pd # data processing, CSV file I/O (e.g. pd.read_csv)\n",
    "from sklearn import feature_extraction, linear_model, model_selection, preprocessing"
   ]
  },
  {
   "cell_type": "code",
   "execution_count": null,
   "metadata": {},
   "outputs": [],
   "source": [
    "import re\n",
    "import yaml\n",
    "import nltk\n",
    "import torch\n",
    "import string\n",
    "#import unidecode\n",
    "import numpy as np\n",
    "import pandas as pd\n",
    "from tqdm import tqdm\n",
    "import seaborn as sns\n",
    "from typing import List\n",
    "import matplotlib.pyplot as plt\n",
    "from nltk.corpus import stopwords\n",
    "from sklearn.metrics import f1_score\n",
    "from sklearn.pipeline import Pipeline\n",
    "from torch.utils.data import Dataset, DataLoader\n",
    "from sklearn.linear_model import LogisticRegression\n",
    "from sklearn.preprocessing import FunctionTransformer\n",
    "from sklearn.feature_extraction.text import TfidfVectorizer\n",
    "from sklearn.model_selection import train_test_split, cross_val_score\n",
    "from transformers import BertTokenizer, BertModel, BertForSequenceClassification, AdamW, get_linear_schedule_with_warmup"
   ]
  },
  {
   "cell_type": "code",
   "execution_count": 2,
   "metadata": {},
   "outputs": [],
   "source": [
    "train = pd.read_csv(\"./data/train.csv\")\n",
    "test = pd.read_csv(\"./data/test.csv\")\n",
    "sub = pd.read_csv(\"./data/sample_submission.csv\")"
   ]
  },
  {
   "cell_type": "code",
   "execution_count": null,
   "metadata": {},
   "outputs": [],
   "source": [
    "train.head(n=5)"
   ]
  },
  {
   "cell_type": "code",
   "execution_count": 4,
   "metadata": {},
   "outputs": [],
   "source": [
    " X_train, X_test, y_train, y_test = train_test_split(train.text.values,\n",
    "                                                    train.target.values,\n",
    "                                                    stratify=train.target.values,\n",
    "                                                    test_size=0.2, random_state=1)"
   ]
  },
  {
   "cell_type": "code",
   "execution_count": 7,
   "metadata": {},
   "outputs": [
    {
     "name": "stdout",
     "output_type": "stream",
     "text": [
      "(1, 54)\n"
     ]
    }
   ],
   "source": [
    "# Data loader class\n",
    "class Data_gen(torch.utils.data.Dataset):\n",
    "    def __init__(self, encodings, labels):\n",
    "        self.encodings = encodings\n",
    "        self.labels = labels\n",
    "\n",
    "    def __getitem__(self, index):\n",
    "        items = {key: torch.tensor(val[index]) for key, val in self.encodings.items()}\n",
    "        if self.labels:\n",
    "            items['labels'] = torch.tensor(self.labels[index])\n",
    "        \n",
    "        return items\n",
    "\n",
    "    def __len__(self):\n",
    "        return len(self.encodings[\"input_ids\"])   \n",
    "\n",
    "\n",
    "\n"
   ]
  },
  {
   "cell_type": "code",
   "execution_count": null,
   "metadata": {},
   "outputs": [],
   "source": [
    "batch_size = 16"
   ]
  },
  {
   "cell_type": "code",
   "execution_count": 9,
   "metadata": {},
   "outputs": [],
   "source": [
    "tokenizer = BertTokenizer.from_pretrained('bert-large-uncased', do_lower_case=True)\n",
    "train_encoding = tokenizer(X_train.tolist(), truncation=True, padding=True, max_length=84)\n",
    "valid_encoding = tokenizer(X_test.tolist(), truncation=True, padding=True, max_length=84)\n",
    "\n",
    "train_set = Data_gen(train_encoding, y_train.tolist())\n",
    "train_loader = DataLoader(train_set, batch_size=batch_size, shuffle=True)\n",
    "\n",
    "valid_set = Data_gen(valid_encoding, y_test.tolist())\n",
    "valid_loader = DataLoader(valid_set, batch_size=batch_size, shuffle=False)"
   ]
  },
  {
   "cell_type": "code",
   "execution_count": 15,
   "metadata": {},
   "outputs": [],
   "source": [
    "total_steps = len(train_loader) * 3\n",
    "\n",
    "model = BertForSequenceClassification.from_pretrained('bert-large-uncased', num_labels=2)\n",
    "optimizer = AdamW(model.parameters(), lr=2e-5)\n",
    "scheduler = get_linear_schedule_with_warmup(optimizer, num_warmup_steps=0, num_training_steps=total_steps)"
   ]
  },
  {
   "cell_type": "code",
   "execution_count": null,
   "metadata": {},
   "outputs": [],
   "source": [
    "class Trainer:\n",
    "    def __init__(self, model, epochs, scheduler, device, optimizer, auto_break_n):\n",
    "        self.model = model\n",
    "        self.epochs = epochs\n",
    "        self.device = device\n",
    "        self.scheduler = scheduler\n",
    "        self.optimizer = optimizer\n",
    "        self.auto_break_n = auto_break_n\n",
    "        \n",
    "        self.history_loss_train = []\n",
    "        self.history_loss_valid = []\n",
    "        self.history_score_train = []\n",
    "        self.history_score_valid = []\n",
    "        \n",
    "        self.no_improvement_epoch = 0\n",
    "        self.best_valid_score = 0\n",
    "        \n",
    "        self.model.to(self.device)\n",
    "        \n",
    "    def fit(self, train_loader, valid_loader=None):\n",
    "        for epoch in range(self.epochs):\n",
    "            self.model.train()\n",
    "            \n",
    "            losses = []\n",
    "            \n",
    "            preds = []\n",
    "            targets = []\n",
    "            \n",
    "            for batch in tqdm(train_loader):\n",
    "                inputs = {k: v.to(self.device) for k, v in batch.items()}\n",
    "                target = batch[\"labels\"]\n",
    "                \n",
    "                self.optimizer.zero_grad()\n",
    "                \n",
    "                outputs = self.model(**inputs)\n",
    "                logits = outputs.logits\n",
    "                loss = outputs.loss\n",
    "                \n",
    "                losses.append(loss.item())\n",
    "            \n",
    "                logits = logits.detach().cpu().numpy()\n",
    "                \n",
    "                targets.extend(target.tolist())\n",
    "                preds.extend(np.argmax(logits, axis=1))\n",
    "                \n",
    "                loss.backward()\n",
    "                torch.nn.utils.clip_grad_norm_(self.model.parameters(), 1.0)\n",
    "                self.optimizer.step()\n",
    "            \n",
    "            train_loss = np.mean(losses)\n",
    "            train_score = f1_score(preds, targets)\n",
    "                                \n",
    "            self.history_loss_train.append(train_loss)\n",
    "            self.history_score_train.append(train_score)\n",
    "            \n",
    "            print(\"=\" * 90)\n",
    "            print(f\"\\033[1;34m=> {epoch + 1} <= epoch\")\n",
    "            print(f\"\\033[1;31m Train Loss: {train_loss}, Score: {train_score}\")\n",
    "            print(\"- \" * 45)\n",
    "            \n",
    "            if valid_loader:\n",
    "                valid_loss, valid_score = self.test_score(valid_loader)\n",
    "                \n",
    "                self.history_loss_valid.append(valid_loss)\n",
    "                self.history_score_valid.append(valid_score)\n",
    "                \n",
    "                print(f\"\\033[1;31m Validation Loss : {valid_loss}, Score: {valid_score}\")\n",
    "                \n",
    "                if self.scheduler:\n",
    "                    self.scheduler.step()\n",
    "                \n",
    "                if self.history_score_valid[-1] > self.best_valid_score:\n",
    "                    self.no_improvement_epoch = 0\n",
    "                    self.best_valid_score = self.history_score_valid[-1]\n",
    "                    self.save_model(epoch + 1)\n",
    "                else:\n",
    "                    self.no_improvement_epoch += 1\n",
    "                    \n",
    "                print(f\"no improvement_iter = {self.no_improvement_epoch}\")\n",
    "                if self.no_improvement_epoch == self.auto_break_n:\n",
    "                    self.save_model(epoch)\n",
    "                    print('Auto_break !!!')                            \n",
    "                    break\n",
    "                \n",
    "        \n",
    "    def test_score(self, valid_loader):\n",
    "        self.model.eval()\n",
    "        losses = []\n",
    "        targets = []\n",
    "        preds = []\n",
    "\n",
    "        for batch in tqdm(valid_loader):\n",
    "            with torch.no_grad():\n",
    "                inputs = {k: v.to(self.device) for k, v in batch.items()}\n",
    "                target = batch[\"labels\"]\n",
    "\n",
    "                self.optimizer.zero_grad()\n",
    "\n",
    "                outputs = self.model(**inputs)\n",
    "                logits = outputs.logits\n",
    "                logits = logits.detach().cpu().numpy()\n",
    "                \n",
    "                loss = outputs.loss.to(self.device)\n",
    "\n",
    "                losses.append(loss.item())\n",
    "\n",
    "                targets.extend(target.tolist())\n",
    "                preds.extend(np.argmax(logits, axis=1))\n",
    "\n",
    "\n",
    "        return np.mean(losses), f1_score(preds, targets)\n",
    "\n",
    "\n",
    "    def save_model(self, n_epoch):\n",
    "        torch.save(\n",
    "            {\n",
    "                \"model_state_dict\": self.model.state_dict(),\n",
    "                \"optimizer_state_dict\": self.optimizer.state_dict(),\n",
    "                \"best_valid_score\": self.best_valid_score,\n",
    "                \"n_epoch\": n_epoch,\n",
    "            },\n",
    "            \"model.pth\",\n",
    "        )"
   ]
  },
  {
   "cell_type": "code",
   "execution_count": null,
   "metadata": {},
   "outputs": [],
   "source": [
    "device = torch.device(\"cuda:0\" if torch.cuda.is_available() else \"cpu\")\n",
    "device"
   ]
  },
  {
   "cell_type": "code",
   "execution_count": null,
   "metadata": {},
   "outputs": [],
   "source": [
    "my_model = Trainer(model, 4, scheduler, device, optimizer, 2)"
   ]
  },
  {
   "cell_type": "code",
   "execution_count": null,
   "metadata": {},
   "outputs": [],
   "source": [
    "my_model.fit(train_loader, valid_loader)"
   ]
  },
  {
   "cell_type": "code",
   "execution_count": null,
   "metadata": {},
   "outputs": [],
   "source": [
    "model = BertForSequenceClassification.from_pretrained('bert-large-uncased', num_labels=2)\n",
    "\n",
    "model.load_state_dict(torch.load(\"model.pth\", map_location=torch.device(device))['model_state_dict']);"
   ]
  },
  {
   "cell_type": "code",
   "execution_count": null,
   "metadata": {},
   "outputs": [],
   "source": [
    "test_encoding = tokenizer(test.text.to_list(), truncation=True, padding=True, max_length=84)\n",
    "\n",
    "test_set = Data_gen(test_encoding, None)\n",
    "test_loader = DataLoader(test_set, batch_size=batch_size, shuffle=False)"
   ]
  },
  {
   "cell_type": "code",
   "execution_count": null,
   "metadata": {},
   "outputs": [],
   "source": [
    "def inference(model, test_loader, device):\n",
    "    model.eval()\n",
    "    model.to(device)\n",
    "\n",
    "    preds = []\n",
    "\n",
    "    for batch in tqdm(test_loader):\n",
    "        with torch.no_grad():\n",
    "            inputs = {k: v.to(device) for k, v in batch.items()}\n",
    "\n",
    "            outputs = model(**inputs)\n",
    "            logits = outputs.logits\n",
    "            logits = logits.detach().cpu().numpy()\n",
    "\n",
    "            preds.extend(np.argmax(logits, axis=1))\n",
    "    return preds"
   ]
  },
  {
   "cell_type": "code",
   "execution_count": null,
   "metadata": {},
   "outputs": [],
   "source": [
    "\n",
    "sub['target'] = inference(model, test_loader, device)\n",
    "sub.to_csv('./submission.csv', index=False)\n",
    "\n",
    "pd.read_csv(\"./submission.csv\")"
   ]
  }
 ],
 "metadata": {
  "interpreter": {
   "hash": "3ad933181bd8a04b432d3370b9dc3b0662ad032c4dfaa4e4f1596c548f763858"
  },
  "kernelspec": {
   "display_name": "Python 3.10.4 64-bit",
   "language": "python",
   "name": "python3"
  },
  "language_info": {
   "codemirror_mode": {
    "name": "ipython",
    "version": 3
   },
   "file_extension": ".py",
   "mimetype": "text/x-python",
   "name": "python",
   "nbconvert_exporter": "python",
   "pygments_lexer": "ipython3",
   "version": "3.10.4"
  },
  "orig_nbformat": 4
 },
 "nbformat": 4,
 "nbformat_minor": 2
}
